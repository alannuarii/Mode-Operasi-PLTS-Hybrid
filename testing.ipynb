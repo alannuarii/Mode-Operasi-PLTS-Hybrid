{
 "cells": [
  {
   "cell_type": "code",
   "execution_count": 2,
   "metadata": {},
   "outputs": [
    {
     "data": {
      "text/plain": [
       "array([7])"
      ]
     },
     "execution_count": 2,
     "metadata": {},
     "output_type": "execute_result"
    }
   ],
   "source": [
    "import pickle\n",
    "import pandas as pd\n",
    "\n",
    "pklname = 'mode_operasi.pkl'\n",
    "\n",
    "data = {'pltd': 2,\n",
    "    'pv': 2,\n",
    "    'bss': 2,\n",
    "    'cuaca': 1,\n",
    "    'irr': 1}\n",
    "\n",
    "features = pd.DataFrame(data, index=[0])\n",
    "\n",
    "with open(pklname, 'rb') as file:\n",
    "    pick = pickle.load(file)\n",
    "\n",
    "prediction = pick.predict(features) \n",
    "# mode_operation = label_encoder.inverse_transform(prediction)\n",
    "# mode_operation[0]\n",
    "prediction\n",
    "\n",
    "\n",
    "\n",
    "# import joblib\n",
    "# import pandas as pd\n",
    "\n",
    "# pklname = 'mode_operasi.pkl'\n",
    "\n",
    "# data = {'pltd': 2,\n",
    "#     'pv': 2,\n",
    "#     'bss': 2,\n",
    "#     'cuaca': 1,\n",
    "#     'irr': 1}\n",
    "\n",
    "# features = pd.DataFrame(data, index=[0])\n",
    "\n",
    "# pick = joblib.load(pklname)\n",
    "\n",
    "# prediction = pick.predict(features) \n",
    "# # mode_operation = label_encoder.inverse_transform(prediction)\n",
    "# # mode_operation[0]\n",
    "# prediction"
   ]
  }
 ],
 "metadata": {
  "kernelspec": {
   "display_name": "env",
   "language": "python",
   "name": "python3"
  },
  "language_info": {
   "codemirror_mode": {
    "name": "ipython",
    "version": 3
   },
   "file_extension": ".py",
   "mimetype": "text/x-python",
   "name": "python",
   "nbconvert_exporter": "python",
   "pygments_lexer": "ipython3",
   "version": "3.9.10"
  }
 },
 "nbformat": 4,
 "nbformat_minor": 2
}
